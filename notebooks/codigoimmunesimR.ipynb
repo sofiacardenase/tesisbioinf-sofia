{
 "cells": [
  {
   "cell_type": "code",
   "execution_count": null,
   "id": "5bb73461",
   "metadata": {
    "vscode": {
     "languageId": "r"
    }
   },
   "outputs": [],
   "source": [
    "# PIPELINE SIMULACIÓN DE REPERTORIOS + ANALISIS DE MÈTRICAS DE EXPANSIÓN CLONAL, DIVERSIDAD Y SHM.IMMUNESIM/IMMCANTATION\n",
    "# Este pipeline permite generar repertorios inmunes simulados con parámetros controlados \n",
    "# y analizarlos mediante métricas de expansión clonal, diversidad y mutación somática (SHM).\n",
    "# Integra herramientas de simulación como ImmuneSim y módulos del ecosistema Immcantation (Change-O, alakazam, shazam)\n",
    "# para el procesamiento y análisis bioinformático. La ejecución se distribuye entre scripts en R y Python, \n",
    "# coordinados mediante un script Bash (.sh), lo que garantiza automatización, reproducibilidad y trazabilidad en cada etapa del flujo. \n",
    "# Además, se utiliza un notebook interactivo (.ipynb) para ejecutar y documentar los análisis en R, \n",
    "# mientras que el script Bash (.sh) gestiona la ejecución de módulos en Python y la orquestación general del pipeline."
   ]
  },
  {
   "cell_type": "code",
   "execution_count": null,
   "id": "e4d887c2",
   "metadata": {
    "vscode": {
     "languageId": "r"
    }
   },
   "outputs": [],
   "source": [
    "\n",
    "# Instalar paquete renv paquete de R que sirve para manejar entornos reproducibles de proyectos. Su función principal es aislar y “congelar” las versiones de los paquetes que usas en un proyecto.\n",
    "# install.packages(\"renv\")\n",
    "# library(renv)\n",
    "# renv::init() Inicializar proyecto renv generando renv.lock\n",
    "# Paquetes CRAN install.packages(c(\"dplyr\", \"ggplot2\", \"viridisLite\", \"readr\", \"here\"))\n",
    "# Paquetes Bioconductor (por ejemplo para Biostrings, IRanges, GenomicRanges)\n",
    "# if (!requireNamespace(\"BiocManager\", quietly = TRUE))\n",
    "#   install.packages(\"BiocManager\")\n",
    "# BiocManager::install(c(\"Biostrings\", \"IRanges\", \"GenomicRanges\"))\n",
    "# renv::snapshot() actualiza el lockfile con las versiones exactas usadas\n",
    "# Para restaurar en otro computador \n",
    "# renv::restore()\n",
    "\n",
    "\n"
   ]
  },
  {
   "cell_type": "code",
   "execution_count": 2,
   "id": "df9e438c",
   "metadata": {
    "vscode": {
     "languageId": "r"
    }
   },
   "outputs": [
    {
     "name": "stderr",
     "output_type": "stream",
     "text": [
      "Loading required package: BiocGenerics\n",
      "\n",
      "Loading required package: parallel\n",
      "\n",
      "\n",
      "Attaching package: 'BiocGenerics'\n",
      "\n",
      "\n",
      "The following objects are masked from 'package:parallel':\n",
      "\n",
      "    clusterApply, clusterApplyLB, clusterCall, clusterEvalQ,\n",
      "    clusterExport, clusterMap, parApply, parCapply, parLapply,\n",
      "    parLapplyLB, parRapply, parSapply, parSapplyLB\n",
      "\n",
      "\n",
      "The following objects are masked from 'package:stats':\n",
      "\n",
      "    IQR, mad, sd, var, xtabs\n",
      "\n",
      "\n",
      "The following objects are masked from 'package:base':\n",
      "\n",
      "    Filter, Find, Map, Position, Reduce, anyDuplicated, append,\n",
      "    as.data.frame, basename, cbind, colnames, dirname, do.call,\n",
      "    duplicated, eval, evalq, get, grep, grepl, intersect, is.unsorted,\n",
      "    lapply, mapply, match, mget, order, paste, pmax, pmax.int, pmin,\n",
      "    pmin.int, rank, rbind, rownames, sapply, setdiff, sort, table,\n",
      "    tapply, union, unique, unsplit, which.max, which.min\n",
      "\n",
      "\n",
      "Loading required package: S4Vectors\n",
      "\n",
      "Loading required package: stats4\n",
      "\n",
      "\n",
      "Attaching package: 'S4Vectors'\n",
      "\n",
      "\n",
      "The following objects are masked from 'package:base':\n",
      "\n",
      "    I, expand.grid, unname\n",
      "\n",
      "\n",
      "Loading required package: IRanges\n",
      "\n",
      "Loading required package: XVector\n",
      "\n",
      "Loading required package: GenomeInfoDb\n",
      "\n",
      "\n",
      "Attaching package: 'Biostrings'\n",
      "\n",
      "\n",
      "The following object is masked from 'package:base':\n",
      "\n",
      "    strsplit\n",
      "\n",
      "\n",
      "here() starts at /Users/catg/Desktop/SOFIAC/Gitsofia/tesisbioinf-sofia/notebooks\n",
      "\n"
     ]
    }
   ],
   "source": [
    "# pak::pkg_install(\"BiocManager\")\n",
    "# BiocManager::install(\"Biostrings\")\n",
    "# pak::pkg_install(\"immuneSIM\")\n",
    "library(Biostrings)\n",
    "library(immuneSIM)\n",
    "library(here)"
   ]
  },
  {
   "cell_type": "code",
   "execution_count": null,
   "id": "2a6dc6f5",
   "metadata": {
    "vscode": {
     "languageId": "r"
    }
   },
   "outputs": [],
   "source": [
    "# SIMULACION DE REPERTORIOS CON IMMUNESIM\n",
    "# Descripción de variables:\n",
    "# name_repertoire = nombre del repertorio\n",
    "# number_of_seqs = numero de secuencias \n",
    "# species = especie\n",
    "# receptor = ig (bcr)o tr (tcr)\n",
    "# chain = cadena pesada o liviana\n",
    "# verbose = activación de mensajes en la consola durante la simulación.\n",
    "# equal_cc = distribución de recuento de clone, si todos los clonotipos tienen o no mismo tamaño\n",
    "# user_defined_alpha = uniformidad de la distribucion, valor mas alto mas desiguales los clones. \n",
    "# shm = mutaciones somaticas basadas en modelos estadisticos que definen como se distribuyen las mutaciones en las secuencias simuladas.\n",
    "# none= no se simulan mutaciones / poisson=mutaciones distribuidas aleatoriamente segun modelo poisson, sin sesgo y constante en la secuencia/data= modelo basado en perfiles reales, mutaciones se concentran en CDR, baja aleatoriedad/ naive= simula secuencias sin SHM, pero puede incluir artefactos técnicos/ motif= mutaciones dirigidas por motivos especificos, introduce sesgos basados en hotspots conocidos.\n",
    "# shm.prob = probabilidad de que ocurra el evento 15/350 son 15 eventos de mutaciones en una secuencia de 350 nucleotidos.\n",
    "# vdj_noise = ruido que se genera porque se modifica la probabilidad con la que se seleccionan ciertos genes V, D o J durante la simulación de recombinación V(D)J. va de 0-1.\n",
    "# max_cdr3_length = 100, min_cdr3_length= controlan el umbral máximo y mínimo para la longitud del aminoácido CDR3. En humanos, la longitud típica de CDR3 en IgH suele estar entre 10 y 25 aminoácidos, con una mediana alrededor de 15–16.\n"
   ]
  },
  {
   "cell_type": "code",
   "execution_count": 3,
   "id": "cfb6c040",
   "metadata": {
    "vscode": {
     "languageId": "r"
    }
   },
   "outputs": [
    {
     "name": "stdout",
     "output_type": "stream",
     "text": [
      "initializing sim..\n",
      "simulated sequences: 10 \n"
     ]
    },
    {
     "name": "stderr",
     "output_type": "stream",
     "text": [
      "Archivo guardado en: /Users/catg/Desktop/SOFIAC/Gitsofia/tesisbioinf-sofia/notebooks/../data/input/repertorio_A_insilico_10_seqs.fasta\n",
      "\n"
     ]
    }
   ],
   "source": [
    "\n",
    "# SIMULACIÓN ESCENARIO 1\n",
    "# Cargar librerías\n",
    "\n",
    "# Parámetro: número de secuencias\n",
    "\n",
    "n_seqs <- 10  # Cambiar a 10, 100, 1000, etc.\n",
    "\n",
    "# Simular repertorio A naive sin expansión y sin SHM en R\n",
    "\n",
    "sim_repertoire <- immuneSIM(\n",
    "  name_repertoire = paste0(\"sim_rep_\", n_seqs),\n",
    "  number_of_seqs  = n_seqs,\n",
    "  species         = \"hs\",\n",
    "  receptor        = \"ig\",\n",
    "  chain           = \"h\",\n",
    "  verbose         = TRUE,\n",
    "  equal_cc        = TRUE,\n",
    "  shm             = \"none\",\n",
    "  shm.prob        = 0,\n",
    "  vdj_noise       = 0,\n",
    "  max_cdr3_length = 15,\n",
    "  min_cdr3_length = 15\n",
    ")\n",
    "\n",
    "\n",
    "# Preparar secuencias para FASTA\n",
    "\n",
    "dna_sequences <- Biostrings::DNAStringSet(sim_repertoire$sequence)\n",
    "names(dna_sequences) <- paste0(\"seq\", seq_along(dna_sequences))\n",
    "\n",
    "\n",
    "# Crear carpeta 'data/input' si no existe\n",
    "\n",
    "# dir.create(here(\"data\", \"input\"), recursive = TRUE, showWarnings = FALSE)\n",
    "\n",
    "\n",
    "# Guardar archivo FASTA en 'data/input'\n",
    "\n",
    "out_file <- here(\"..\", \"data\", \"input\",\n",
    "                 paste0(\"repertorio_A_insilico_\", n_seqs, \"_seqs.fasta\"))\n",
    "\n",
    "writeXStringSet(dna_sequences, filepath = out_file)\n",
    "message(\"Archivo guardado en: \", out_file)\n",
    "\n"
   ]
  },
  {
   "cell_type": "code",
   "execution_count": null,
   "id": "5157aa60",
   "metadata": {
    "vscode": {
     "languageId": "r"
    }
   },
   "outputs": [
    {
     "data": {
      "text/html": [
       "'/Users/catg/Desktop/SOFIA C/Gitsofia/tesisbioinf-sofia/notebooks/../data/input/repertorio_A_insilico_10_seqs.fasta'"
      ],
      "text/latex": [
       "'/Users/catg/Desktop/SOFIA C/Gitsofia/tesisbioinf-sofia/notebooks/../data/input/repertorio\\_A\\_insilico\\_10\\_seqs.fasta'"
      ],
      "text/markdown": [
       "'/Users/catg/Desktop/SOFIA C/Gitsofia/tesisbioinf-sofia/notebooks/../data/input/repertorio_A_insilico_10_seqs.fasta'"
      ],
      "text/plain": [
       "[1] \"/Users/catg/Desktop/SOFIA C/Gitsofia/tesisbioinf-sofia/notebooks/../data/input/repertorio_A_insilico_10_seqs.fasta\""
      ]
     },
     "metadata": {},
     "output_type": "display_data"
    }
   ],
   "source": [
    "\n",
    "out_file <- here(\"..\", \"data\", \"input\",\n",
    "                 paste0(\"repertorio_A_insilico_\", n_seqs, \"_seqs.fasta\"))\n",
    "out_file              "
   ]
  },
  {
   "cell_type": "code",
   "execution_count": null,
   "id": "3caed2d7",
   "metadata": {
    "vscode": {
     "languageId": "r"
    }
   },
   "outputs": [
    {
     "data": {
      "text/html": [
       "'/Users/catg/Desktop/SOFIA C/Gitsofia/tesisbioinf-sofia/notebooks'"
      ],
      "text/latex": [
       "'/Users/catg/Desktop/SOFIA C/Gitsofia/tesisbioinf-sofia/notebooks'"
      ],
      "text/markdown": [
       "'/Users/catg/Desktop/SOFIA C/Gitsofia/tesisbioinf-sofia/notebooks'"
      ],
      "text/plain": [
       "[1] \"/Users/catg/Desktop/SOFIA C/Gitsofia/tesisbioinf-sofia/notebooks\""
      ]
     },
     "metadata": {},
     "output_type": "display_data"
    }
   ],
   "source": [
    "here()"
   ]
  },
  {
   "cell_type": "code",
   "execution_count": null,
   "id": "27d8a233",
   "metadata": {
    "vscode": {
     "languageId": "r"
    }
   },
   "outputs": [
    {
     "name": "stderr",
     "output_type": "stream",
     "text": [
      "Loading required package: BiocGenerics\n",
      "\n",
      "Loading required package: parallel\n",
      "\n",
      "\n",
      "Attaching package: 'BiocGenerics'\n",
      "\n",
      "\n",
      "The following objects are masked from 'package:parallel':\n",
      "\n",
      "    clusterApply, clusterApplyLB, clusterCall, clusterEvalQ,\n",
      "    clusterExport, clusterMap, parApply, parCapply, parLapply,\n",
      "    parLapplyLB, parRapply, parSapply, parSapplyLB\n",
      "\n",
      "\n",
      "The following objects are masked from 'package:stats':\n",
      "\n",
      "    IQR, mad, sd, var, xtabs\n",
      "\n",
      "\n",
      "The following objects are masked from 'package:base':\n",
      "\n",
      "    Filter, Find, Map, Position, Reduce, anyDuplicated, append,\n",
      "    as.data.frame, basename, cbind, colnames, dirname, do.call,\n",
      "    duplicated, eval, evalq, get, grep, grepl, intersect, is.unsorted,\n",
      "    lapply, mapply, match, mget, order, paste, pmax, pmax.int, pmin,\n",
      "    pmin.int, rank, rbind, rownames, sapply, setdiff, sort, table,\n",
      "    tapply, union, unique, unsplit, which.max, which.min\n",
      "\n",
      "\n",
      "Loading required package: S4Vectors\n",
      "\n",
      "Loading required package: stats4\n",
      "\n",
      "\n",
      "Attaching package: 'S4Vectors'\n",
      "\n",
      "\n",
      "The following objects are masked from 'package:base':\n",
      "\n",
      "    I, expand.grid, unname\n",
      "\n",
      "\n",
      "Loading required package: IRanges\n",
      "\n",
      "Loading required package: XVector\n",
      "\n",
      "Loading required package: GenomeInfoDb\n",
      "\n",
      "\n",
      "Attaching package: 'Biostrings'\n",
      "\n",
      "\n",
      "The following object is masked from 'package:base':\n",
      "\n",
      "    strsplit\n",
      "\n",
      "\n",
      "here() starts at /Users/catg/Desktop/SOFIAC/Gitsofia/tesisbioinf-sofia/notebooks\n",
      "\n"
     ]
    },
    {
     "name": "stdout",
     "output_type": "stream",
     "text": [
      "initializing sim..\n",
      "simulated sequences: 10 \n"
     ]
    },
    {
     "name": "stderr",
     "output_type": "stream",
     "text": [
      "Archivo guardado en: /Users/catg/Desktop/SOFIAC/Gitsofia/tesisbioinf-sofia/notebooks/../data/input/repertorio_B_insilico_10_seqs.fasta\n",
      "\n"
     ]
    }
   ],
   "source": [
    "# SIMULACIÓN ESCENARIO 2\n",
    "# Cargar librerías\n",
    "\n",
    "\n",
    "# Parámetro: número de secuencias\n",
    "\n",
    "n_seqs <- 10  # Cambiar a 10, 100, 1000, etc.\n",
    "\n",
    "# Simular repertorio  B pre-B naive con expansión y  SHM en R\n",
    "\n",
    "sim_repertoire <- immuneSIM(\n",
    "  name_repertoire = paste0(\"sim_rep_\", n_seqs),\n",
    " number_of_seqs = 10,\n",
    "  species = \"hs\",\n",
    "  receptor = \"ig\",\n",
    "  chain = \"h\",\n",
    "  verbose= TRUE,\n",
    "  equal_cc = FALSE,\n",
    "  user_defined_alpha = 1.0,  \n",
    "  shm = \"poisson\",\n",
    "  shm.prob = 05/350,\n",
    "  vdj_noise = 0.1,\n",
    "  max_cdr3_length =18, \n",
    "  min_cdr3_length =15,\n",
    " \n",
    ")\n",
    "\n",
    "\n",
    "# Preparar secuencias para FASTA\n",
    "\n",
    "dna_sequences <- Biostrings::DNAStringSet(sim_repertoire$sequence)\n",
    "names(dna_sequences) <- paste0(\"seq\", seq_along(dna_sequences))\n",
    "\n",
    "\n",
    "# Crear carpeta 'data/input' si no existe\n",
    "\n",
    "# dir.create(here(\"data\", \"input\"), recursive = TRUE, showWarnings = FALSE)\n",
    "\n",
    "\n",
    "# Guardar archivo FASTA en 'data/input'\n",
    "\n",
    "out_file <- here(\"..\", \"data\", \"input\",\n",
    "                 paste0(\"repertorio_B_insilico_\", n_seqs, \"_seqs.fasta\"))\n",
    "\n",
    "writeXStringSet(dna_sequences, filepath = out_file)\n",
    "message(\"Archivo guardado en: \", out_file)\n",
    "\n",
    "\n"
   ]
  },
  {
   "cell_type": "code",
   "execution_count": null,
   "id": "6cde6c29",
   "metadata": {
    "vscode": {
     "languageId": "r"
    }
   },
   "outputs": [
    {
     "name": "stderr",
     "output_type": "stream",
     "text": [
      "Loading required package: BiocGenerics\n",
      "\n",
      "Loading required package: parallel\n",
      "\n",
      "\n",
      "Attaching package: 'BiocGenerics'\n",
      "\n",
      "\n",
      "The following objects are masked from 'package:parallel':\n",
      "\n",
      "    clusterApply, clusterApplyLB, clusterCall, clusterEvalQ,\n",
      "    clusterExport, clusterMap, parApply, parCapply, parLapply,\n",
      "    parLapplyLB, parRapply, parSapply, parSapplyLB\n",
      "\n",
      "\n",
      "The following objects are masked from 'package:stats':\n",
      "\n",
      "    IQR, mad, sd, var, xtabs\n",
      "\n",
      "\n",
      "The following objects are masked from 'package:base':\n",
      "\n",
      "    Filter, Find, Map, Position, Reduce, anyDuplicated, append,\n",
      "    as.data.frame, basename, cbind, colnames, dirname, do.call,\n",
      "    duplicated, eval, evalq, get, grep, grepl, intersect, is.unsorted,\n",
      "    lapply, mapply, match, mget, order, paste, pmax, pmax.int, pmin,\n",
      "    pmin.int, rank, rbind, rownames, sapply, setdiff, sort, table,\n",
      "    tapply, union, unique, unsplit, which.max, which.min\n",
      "\n",
      "\n",
      "Loading required package: S4Vectors\n",
      "\n",
      "Loading required package: stats4\n",
      "\n",
      "\n",
      "Attaching package: 'S4Vectors'\n",
      "\n",
      "\n",
      "The following objects are masked from 'package:base':\n",
      "\n",
      "    I, expand.grid, unname\n",
      "\n",
      "\n",
      "Loading required package: IRanges\n",
      "\n",
      "Loading required package: XVector\n",
      "\n",
      "Loading required package: GenomeInfoDb\n",
      "\n",
      "\n",
      "Attaching package: 'Biostrings'\n",
      "\n",
      "\n",
      "The following object is masked from 'package:base':\n",
      "\n",
      "    strsplit\n",
      "\n",
      "\n",
      "here() starts at /Users/catg/Desktop/SOFIAC/Gitsofia/tesisbioinf-sofia/notebooks\n",
      "\n"
     ]
    },
    {
     "name": "stdout",
     "output_type": "stream",
     "text": [
      "initializing sim..\n",
      "simulated sequences: 10 \n"
     ]
    },
    {
     "name": "stderr",
     "output_type": "stream",
     "text": [
      "Archivo guardado en: /Users/catg/Desktop/SOFIAC/Gitsofia/tesisbioinf-sofia/notebooks/../data/input/repertorio_C_insilico_10_seqs.fasta\n",
      "\n"
     ]
    }
   ],
   "source": [
    "# SIMULACIÓN ESCENARIO 3\n",
    "# Cargar librerías\n",
    "\n",
    "\n",
    "# Parámetro: número de secuencias\n",
    "\n",
    "n_seqs <- 10  # Cambiar a 10, 100, 1000, etc.\n",
    "\n",
    "# Simular repertorio C mixto sangre periferica con expansión y  SHM en R\n",
    "\n",
    "sim_repertoire <- immuneSIM(\n",
    "  name_repertoire = paste0(\"sim_rep_\", n_seqs),\n",
    " number_of_seqs = 10,\n",
    "  species = \"hs\",\n",
    "  receptor = \"ig\",\n",
    "  chain = \"h\",\n",
    "  verbose= TRUE,\n",
    "  equal_cc = FALSE,\n",
    "  user_defined_alpha = 0.5,  \n",
    "  shm = \"data\",\n",
    "  shm.prob = 15/350,\n",
    "  vdj_noise = 0.25,\n",
    "  max_cdr3_length =22, \n",
    "  min_cdr3_length =15,\n",
    " \n",
    ")\n",
    "\n",
    "# Preparar secuencias para FASTA\n",
    "\n",
    "dna_sequences <- Biostrings::DNAStringSet(sim_repertoire$sequence)\n",
    "names(dna_sequences) <- paste0(\"seq\", seq_along(dna_sequences))\n",
    "\n",
    "\n",
    "# Crear carpeta 'data/input' si no existe\n",
    "\n",
    "# dir.create(here(\"data\", \"input\"), recursive = TRUE, showWarnings = FALSE)\n",
    "\n",
    "\n",
    "# Guardar archivo FASTA en 'data/input'\n",
    "\n",
    "out_file <- here(\"..\", \"data\", \"input\",\n",
    "                 paste0(\"repertorio_C_insilico_\", n_seqs, \"_seqs.fasta\"))\n",
    "\n",
    "writeXStringSet(dna_sequences, filepath = out_file)\n",
    "message(\"Archivo guardado en: \", out_file)\n",
    "\n",
    "\n",
    "\n"
   ]
  }
 ],
 "metadata": {
  "kernelspec": {
   "display_name": "R",
   "language": "R",
   "name": "ir"
  },
  "language_info": {
   "codemirror_mode": "r",
   "file_extension": ".r",
   "mimetype": "text/x-r-source",
   "name": "R",
   "pygments_lexer": "r",
   "version": "4.1.1"
  }
 },
 "nbformat": 4,
 "nbformat_minor": 5
}
